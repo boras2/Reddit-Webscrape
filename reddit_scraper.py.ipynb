{
 "cells": [
  {
   "cell_type": "code",
   "execution_count": 6,
   "metadata": {},
   "outputs": [
    {
     "ename": "AttributeError",
     "evalue": "'NoneType' object has no attribute 'find_all'",
     "output_type": "error",
     "traceback": [
      "\u001b[1;31m---------------------------------------------------------------------------\u001b[0m",
      "\u001b[1;31mAttributeError\u001b[0m                            Traceback (most recent call last)",
      "\u001b[1;32m<ipython-input-6-b77b8b42bf58>\u001b[0m in \u001b[0;36m<module>\u001b[1;34m\u001b[0m\n\u001b[0;32m     11\u001b[0m \u001b[0mmain_table\u001b[0m \u001b[1;33m=\u001b[0m \u001b[0msoup\u001b[0m\u001b[1;33m.\u001b[0m\u001b[0mfind\u001b[0m\u001b[1;33m(\u001b[0m\u001b[1;34m\"div\"\u001b[0m\u001b[1;33m,\u001b[0m\u001b[0mattrs\u001b[0m\u001b[1;33m=\u001b[0m\u001b[1;33m{\u001b[0m\u001b[1;34m'id'\u001b[0m\u001b[1;33m:\u001b[0m\u001b[1;34m'siteTable'\u001b[0m\u001b[1;33m}\u001b[0m\u001b[1;33m)\u001b[0m\u001b[1;33m\u001b[0m\u001b[1;33m\u001b[0m\u001b[0m\n\u001b[0;32m     12\u001b[0m \u001b[1;31m#Now we go into main_table and get every a element in it which has a class \"title\"\u001b[0m\u001b[1;33m\u001b[0m\u001b[1;33m\u001b[0m\u001b[1;33m\u001b[0m\u001b[0m\n\u001b[1;32m---> 13\u001b[1;33m \u001b[0mlinks\u001b[0m \u001b[1;33m=\u001b[0m \u001b[0mmain_table\u001b[0m\u001b[1;33m.\u001b[0m\u001b[0mfind_all\u001b[0m\u001b[1;33m(\u001b[0m\u001b[1;34m\"a\"\u001b[0m\u001b[1;33m,\u001b[0m\u001b[0mclass_\u001b[0m\u001b[1;33m=\u001b[0m\u001b[1;34m\"title\"\u001b[0m\u001b[1;33m)\u001b[0m\u001b[1;33m\u001b[0m\u001b[1;33m\u001b[0m\u001b[0m\n\u001b[0m\u001b[0;32m     14\u001b[0m \u001b[1;31m#List to store a dict of the data we extracted\u001b[0m\u001b[1;33m\u001b[0m\u001b[1;33m\u001b[0m\u001b[1;33m\u001b[0m\u001b[0m\n\u001b[0;32m     15\u001b[0m \u001b[0mextracted_records\u001b[0m \u001b[1;33m=\u001b[0m \u001b[1;33m[\u001b[0m\u001b[1;33m]\u001b[0m\u001b[1;33m\u001b[0m\u001b[1;33m\u001b[0m\u001b[0m\n",
      "\u001b[1;31mAttributeError\u001b[0m: 'NoneType' object has no attribute 'find_all'"
     ]
    }
   ],
   "source": [
    "import urllib.request\n",
    "from bs4 import BeautifulSoup\n",
    "import json\n",
    "\n",
    "url = \"https://old.reddit.com/top/\"\n",
    "headers = {'user-agent':'Mozilla/5.0 (X11; Linux x86_64) AppleWebKit/537.36 (KHTML, like Gecko) Chrome/62.0.3202.94 Safari/537.3'}\n",
    "request = urllib.request.Request(url,headers=headers)\n",
    "html = urllib.request.urlopen(request).read()\n",
    "soup = BeautifulSoup(html,'html.parser')\n",
    "#First lets get the HTML of the table called site Table where all the links are displayed\n",
    "main_table = soup.find(\"div\",attrs={'id':'siteTable'})\n",
    "#Now we go into main_table and get every a element in it which has a class \"title\" \n",
    "links = main_table.find_all(\"a\",class_=\"title\")\n",
    "#List to store a dict of the data we extracted \n",
    "extracted_records = []\n",
    "for link in links: \n",
    "    title = link.text\n",
    "    url = link['href']\n",
    "    #There are better ways to check if a URL is absolute in Python. For sake simplicity we'll just stick to .startwith method of a string \n",
    "    # https://stackoverflow.com/questions/8357098/how-can-i-check-if-a-url-is-absolute-using-python \n",
    "    if not url.startswith('http'):\n",
    "        url = \"https://reddit.com\"+url \n",
    "    # You can join urls better using urlparse library of python. \n",
    "    # https://docs.python.org/3/library/urllib.parse.html#urllib.parse.urljoin \n",
    "    #Lets just print it \n",
    "    print(\"%s - %s\"%(title,url))\n",
    "    record = {\n",
    "        'title':title,\n",
    "        'url':url\n",
    "        }\n",
    "    extracted_records.append(record)\n",
    "#Lets write these to a JSON file for now. \n",
    "with open('data.json', 'w') as outfile:\n",
    "    json.dump(extracted_records, outfile, indent=4)\n",
    "    \n",
    "    \n",
    "    \n",
    "def parse_comment_page(page_url):\n",
    "    #Adding a User-Agent String in the request to prevent getting blocked while scraping \n",
    "    user_agent = 'Mozilla/5.0 (Macintosh; Intel Mac OS X 10_9_3) AppleWebKit/537.36 (KHTML, like Gecko) Chrome/35.0.1916.47 Safari/537.36'\n",
    "    request = urllib.request.Request(page_url,headers={'User-Agent': user_agent})\n",
    "    html = urllib.request.urlopen(request).read()\n",
    "    soup = BeautifulSoup(html,'html.parser')\n",
    "    main_post = soup.find('div',attrs={'id':'siteTable'})\n",
    "    title = main_post.find('a',attrs={'class':'title'}).text\n",
    "    upvotes = main_post.find('div',attrs={'class':'score unvoted'}).text\n",
    "    original_poster = main_post.find('a',attrs={'class':'author'}).text\n",
    "    comments_count = main_post.find('a',attrs={'class':'bylink comments may-blank'}).text\n",
    "    comment_area = soup.find('div',attrs={'class':'commentarea'})\n",
    "    comments = comment_area.find_all('div', attrs={'class':'entry unvoted'})\n",
    "    extracted_comments = []\n",
    "    for comment in comments: \n",
    "        if comment.find('form'):\n",
    "            #We are now looking for any element with a class of author in the comment, instead of just looking for a tags. \n",
    "            #We noticed some comments whose authors have deleted their account shows up with a span tag instead of an a \n",
    "            commenter = comment.find(attrs={'class':'author'}).text\n",
    "            comment_text = comment.find('div',attrs={'class':'md'}).text.strip()\n",
    "            permalink = comment.find('a',attrs={'class':'bylink'})['href']\n",
    "            extracted_comments.append({'commenter':commenter,'comment_text':comment_text,'permalink':permalink})\n",
    "    #Lets put the data in dict \n",
    "    post_data = {\n",
    "        'title':title,\n",
    "        'no_of_upvotes':upvotes,\n",
    "        'poster':original_poster,\n",
    "        'no_of_comments':comments_count,\n",
    "        'comments':extracted_comments\n",
    "    }\n",
    "    return post_data"
   ]
  },
  {
   "cell_type": "code",
   "execution_count": null,
   "metadata": {},
   "outputs": [],
   "source": []
  }
 ],
 "metadata": {
  "kernelspec": {
   "display_name": "Python 3",
   "language": "python",
   "name": "python3"
  },
  "language_info": {
   "codemirror_mode": {
    "name": "ipython",
    "version": 3
   },
   "file_extension": ".py",
   "mimetype": "text/x-python",
   "name": "python",
   "nbconvert_exporter": "python",
   "pygments_lexer": "ipython3",
   "version": "3.7.4"
  }
 },
 "nbformat": 4,
 "nbformat_minor": 2
}
